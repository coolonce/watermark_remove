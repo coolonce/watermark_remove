{
 "cells": [
  {
   "cell_type": "code",
   "execution_count": 4,
   "metadata": {},
   "outputs": [
    {
     "name": "stdout",
     "output_type": "stream",
     "text": [
      "D:\\proj\\recept\\photos\n"
     ]
    }
   ],
   "source": [
    "%cd D:\\proj\\recept\\photos\n",
    "%matplotlib inline\n",
    "import cv2 as cv\n",
    "import numpy as np\n",
    "import matplotlib.pyplot as plt\n",
    "import random\n",
    "from skimage.morphology import binary_dilation, binary_erosion\n",
    "import os, numpy, PIL\n",
    "from PIL import Image\n",
    "import scipy.ndimage\n",
    "import imutils\n",
    "import glob"
   ]
  },
  {
   "cell_type": "code",
   "execution_count": 5,
   "metadata": {},
   "outputs": [],
   "source": [
    "name_images = \"photo_1000menu_\"\n",
    "ext = \".jpg\"\n",
    "\n",
    "def getCountFile():\n",
    "    return len(glob.glob1('',name_images+\"*\"+ext))\n",
    "\n",
    "count_photo = getCountFile()"
   ]
  },
  {
   "cell_type": "code",
   "execution_count": 6,
   "metadata": {},
   "outputs": [],
   "source": [
    "def show(img):\n",
    "    plt.figure(figsize = (20,10))\n",
    "    plt.imshow(cv2.cvtColor(img, cv2.COLOR_BGR2RGB), interpolation='nearest')\n",
    "    plt.show()"
   ]
  },
  {
   "cell_type": "code",
   "execution_count": 7,
   "metadata": {},
   "outputs": [],
   "source": [
    "def minimal_size_img(treshold):\n",
    "    minimal_size = (9999,9999)\n",
    "    for i in range(count_photo):\n",
    "        size = Image.open(name_images+str(i+1)+ext).size\n",
    "        if size < minimal_size and size > treshold:\n",
    "            minimal_size = size\n",
    "    return minimal_size"
   ]
  },
  {
   "cell_type": "code",
   "execution_count": 9,
   "metadata": {},
   "outputs": [],
   "source": [
    "size_img = minimal_size_img((557, 390))"
   ]
  },
  {
   "cell_type": "code",
   "execution_count": 10,
   "metadata": {},
   "outputs": [],
   "source": [
    "PHOTO_X = size_img[0]\n",
    "PHOTO_Y = size_img[1]"
   ]
  },
  {
   "cell_type": "code",
   "execution_count": 12,
   "metadata": {},
   "outputs": [],
   "source": [
    "def resise_photo(name_work_dir):\n",
    "    if not os.path.exists(name_work_dir):\n",
    "        os.mkdir(name_work_dir, mode=0o777) \n",
    "    for i in range(count_photo):\n",
    "        image = Image.open(name_images+str(i+1)+ext)\n",
    "        new_image = image.resize((PHOTO_X, PHOTO_Y))\n",
    "\n",
    "        new_image.save(name_work_dir+'/'+name_images+str(i+1)+ext)"
   ]
  },
  {
   "cell_type": "code",
   "execution_count": 14,
   "metadata": {},
   "outputs": [],
   "source": [
    "work_dir = name_images+\"_work\"\n",
    "resise_photo(work_dir)"
   ]
  },
  {
   "cell_type": "code",
   "execution_count": 15,
   "metadata": {},
   "outputs": [],
   "source": [
    "def calulate_avg_photo():\n",
    "    allfiles=os.listdir(os.getcwd()+'/'+work_dir)\n",
    "    imlist=[work_dir+'/'+filename for filename in allfiles if  filename[-4:] in [ext]]\n",
    "    w,h=Image.open(imlist[5]).size\n",
    "    \n",
    "    N=len(imlist)\n",
    "    \n",
    "    arr=numpy.zeros((h,w,3),numpy.float)\n",
    "    \n",
    "    for im in imlist:\n",
    "        imarr=numpy.array(Image.open(im),dtype=numpy.float)\n",
    "        arr=arr+imarr/N\n",
    "    \n",
    "    arr=numpy.array(numpy.round(arr),dtype=numpy.uint8)\n",
    "    \n",
    "    out=Image.fromarray(arr)\n",
    "    out.save(work_dir+'/'+\"Average.png\")"
   ]
  },
  {
   "cell_type": "code",
   "execution_count": 16,
   "metadata": {},
   "outputs": [
    {
     "name": "stdout",
     "output_type": "stream",
     "text": [
      "580 396\n",
      "(396, 580, 3)\n"
     ]
    }
   ],
   "source": [
    "calulate_avg_photo()"
   ]
  },
  {
   "cell_type": "code",
   "execution_count": 19,
   "metadata": {},
   "outputs": [],
   "source": [
    "def calculate_mask():\n",
    "    fn = work_dir+'/Average.png'\n",
    "    kernel = np.ones((5,5),np.uint8)\n",
    "    img = cv.imread(fn)\n",
    "    image = img.copy()\n",
    "    image = imutils.resize(image, height = PHOTO_Y, width=PHOTO_X)\n",
    "    gray = cv.cvtColor(image, cv.COLOR_BGR2GRAY)\n",
    "    gray = cv.bilateralFilter(gray, 1, 1, 17)\n",
    "    # show(gray)\n",
    "    grayBlur = cv.GaussianBlur(gray,(1,1),0 )\n",
    "    # show(grayBlur)\n",
    "    edged = cv.Canny(grayBlur, 0, 25,1)\n",
    "    # show(edged)\n",
    "    edged = cv.dilate(edged,kernel,iterations = 1)\n",
    "    # show(edged)\n",
    "\n",
    "    out=Image.fromarray(edged)\n",
    "    out.save(work_dir+'/'+\"mask_\"+name_images+\".png\")"
   ]
  },
  {
   "cell_type": "code",
   "execution_count": 20,
   "metadata": {},
   "outputs": [],
   "source": [
    "calculate_mask()"
   ]
  },
  {
   "cell_type": "code",
   "execution_count": 34,
   "metadata": {},
   "outputs": [],
   "source": [
    "def deleted_watermark(path_photo):\n",
    "    img = cv.imread(work_dir+'/'+path_photo+'.jpg')\n",
    "#     show(img)\n",
    "    # image = Image.open('photo_1000menu_2.jpg')\n",
    "    # new_image = image.resize((600, 600))\n",
    "    new_image = numpy.array(img) \n",
    "    mask = cv.imread(work_dir+'/'+\"mask_\"+name_images+\".png\",0)\n",
    "    # image.shape, mask.shape\n",
    "    dst = cv.inpaint(img,mask,3,cv.INPAINT_TELEA)\n",
    "    open_cv_image = dst[:, :, ::-1].copy()\n",
    "    if not os.path.exists(\"handle_images\"):\n",
    "        os.mkdir(\"handle_images\", mode=0o777) \n",
    "    im_pil = Image.fromarray(open_cv_image)\n",
    "    im_pil.save('handle_images/'+path_photo+ext) \n",
    "#     show(dst)"
   ]
  },
  {
   "cell_type": "code",
   "execution_count": 35,
   "metadata": {},
   "outputs": [],
   "source": [
    "deleted_watermark('photo_1000menu_9')"
   ]
  },
  {
   "cell_type": "code",
   "execution_count": 36,
   "metadata": {},
   "outputs": [],
   "source": [
    "# def delete_work_dir():\n",
    "#     os.rmdir(work_dir)"
   ]
  },
  {
   "cell_type": "code",
   "execution_count": 1,
   "metadata": {},
   "outputs": [],
   "source": [
    "# delete_work_dir()"
   ]
  },
  {
   "cell_type": "code",
   "execution_count": null,
   "metadata": {},
   "outputs": [],
   "source": []
  }
 ],
 "metadata": {
  "kernelspec": {
   "display_name": "Python 3",
   "language": "python",
   "name": "python3"
  },
  "language_info": {
   "codemirror_mode": {
    "name": "ipython",
    "version": 3
   },
   "file_extension": ".py",
   "mimetype": "text/x-python",
   "name": "python",
   "nbconvert_exporter": "python",
   "pygments_lexer": "ipython3",
   "version": "3.7.3"
  }
 },
 "nbformat": 4,
 "nbformat_minor": 2
}
